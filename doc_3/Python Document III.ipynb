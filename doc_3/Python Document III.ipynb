{
 "cells": [
  {
   "cell_type": "markdown",
   "metadata": {},
   "source": [
    "# Data Collections 2 (Dictionaries, Sets) and Importing Modules"
   ]
  },
  {
   "cell_type": "markdown",
   "metadata": {},
   "source": [
    "## Tasks Today:\n",
    "\n",
    "1) Dictionary <br>\n",
    " &nbsp;&nbsp;&nbsp;&nbsp; a) Declaring (key, value) <br>\n",
    " &nbsp;&nbsp;&nbsp;&nbsp; b) Accessing Values <br>\n",
    " &nbsp;&nbsp;&nbsp;&nbsp; ------ Exercise #1 - Print the eye color of each person in a double nested dict <br>\n",
    " &nbsp;&nbsp;&nbsp;&nbsp; c) Adding New Pairs <br>\n",
    " &nbsp;&nbsp;&nbsp;&nbsp; d) Modifying Values <br>\n",
    " &nbsp;&nbsp;&nbsp;&nbsp; e) Removing Key, Value Pairs <br>\n",
    " &nbsp;&nbsp;&nbsp;&nbsp; f) Looping a Dictionary <br>\n",
    " &nbsp;&nbsp;&nbsp;&nbsp; g) Looping Only Keys <br>\n",
    " &nbsp;&nbsp;&nbsp;&nbsp; h) Looping Only Values <br>\n",
    " &nbsp;&nbsp;&nbsp;&nbsp; ------ Exercise #2 - Create a Function that Prints All Key Value Pairs within a print .format()  <br>\n",
    " &nbsp;&nbsp;&nbsp;&nbsp; i) sorted() <br>\n",
    " &nbsp;&nbsp;&nbsp;&nbsp; j) Lists with Dictionaries <br>\n",
    " &nbsp;&nbsp;&nbsp;&nbsp; k) Dictionaries with Lists <br>\n",
    " &nbsp;&nbsp;&nbsp;&nbsp; l) Dictionaries with Dictionaries <br>\n",
    " &nbsp;&nbsp;&nbsp;&nbsp; ------ Exercise #3 - Write a Function that asks someone's name and address, and then stores that into a dictionary, which prints all names and addresses after they're done putting information in...  <br>\n",
    "2) Dictionaries vs. Lists (over time)<br>\n",
    "3) Set <br>\n",
    " &nbsp;&nbsp;&nbsp;&nbsp; a) Declaring <br>\n",
    " &nbsp;&nbsp;&nbsp;&nbsp; b) .add() <br>\n",
    " &nbsp;&nbsp;&nbsp;&nbsp; c) .remove() <br>\n",
    " &nbsp;&nbsp;&nbsp;&nbsp; d) .union() <br>\n",
    " &nbsp;&nbsp;&nbsp;&nbsp; e) .intersection() <br>\n",
    " &nbsp;&nbsp;&nbsp;&nbsp; f) .difference() <br>\n",
    " &nbsp;&nbsp;&nbsp;&nbsp; g) Frozen Set <br>\n",
    "4) Modules <br>\n",
    " &nbsp;&nbsp;&nbsp;&nbsp; a) Importing Entire Modules <br>\n",
    " &nbsp;&nbsp;&nbsp;&nbsp; b) Importing Methods Only <br>\n",
    " &nbsp;&nbsp;&nbsp;&nbsp; c) Using the 'as' Keyword <br>\n",
    " &nbsp;&nbsp;&nbsp;&nbsp; d) Creating a Module <br>\n",
    "5) Exercises <br>\n",
    " &nbsp;&nbsp;&nbsp;&nbsp; a) Build a Shopping Cart <br>\n",
    " &nbsp;&nbsp;&nbsp;&nbsp; b) Create Your Own Module <br>"
   ]
  },
  {
   "cell_type": "markdown",
   "metadata": {},
   "source": [
    "## Dictionary <br>\n",
    "<p>A collection of data with 'key:value' pairs. Dictionaries are ordered as of Python 3.6</p>"
   ]
  },
  {
   "cell_type": "markdown",
   "metadata": {},
   "source": [
    "##### Declaring (key, value)"
   ]
  },
  {
   "cell_type": "code",
   "execution_count": 53,
   "metadata": {},
   "outputs": [
    {
     "name": "stdout",
     "output_type": "stream",
     "text": [
      "{'dave': '255 Main Street', 'sean': '522 1st Street', '0': 'This is a value for the key of 0'}\n"
     ]
    }
   ],
   "source": [
    "# Keys should be unique\n",
    "# Can use number or strings as keys\n",
    "\n",
    "dict_1 = {}\n",
    "\n",
    "# OR\n",
    "\n",
    "dict_2 = dict()\n",
    "\n",
    "# With Data\n",
    "\n",
    "dict_3 = {\n",
    "    'dave': '255 Main Street',\n",
    "    'sean': '522 1st Street',\n",
    "    '0': 'This is a value for the key of 0',\n",
    "}\n",
    "\n",
    "print(dict_3)"
   ]
  },
  {
   "cell_type": "markdown",
   "metadata": {},
   "source": [
    "##### Accessing Values"
   ]
  },
  {
   "cell_type": "code",
   "execution_count": 17,
   "metadata": {},
   "outputs": [
    {
     "name": "stdout",
     "output_type": "stream",
     "text": [
      "255 Main Street\n",
      "This is a value for the ey of 0\n"
     ]
    }
   ],
   "source": [
    "# dict[key]\n",
    "# ^ this returns the value\n",
    "\n",
    "dict_3['dave']\n",
    "\n",
    "dict_3[0]"
   ]
  },
  {
   "cell_type": "markdown",
   "metadata": {},
   "source": [
    "## In-Class Exercise #1 - Print a formatted statement from the dictionary below <br>\n",
    "<p>The output should be '2018 Chevrolet Silverado'</p>"
   ]
  },
  {
   "cell_type": "code",
   "execution_count": 51,
   "metadata": {},
   "outputs": [
    {
     "name": "stdout",
     "output_type": "stream",
     "text": [
      "2018 Chevrolet Silverado\n"
     ]
    }
   ],
   "source": [
    "# use the dict below\n",
    "truck = {\n",
    "    'year': 2018,\n",
    "    'make': 'Chevrolet',\n",
    "    'model': 'Silverado'\n",
    "}\n",
    "\n",
    "print(str(truck['year']) + \" \" + truck['make'] + \" \" + truck['model'])"
   ]
  },
  {
   "cell_type": "markdown",
   "metadata": {},
   "source": [
    "##### Adding New Pairs"
   ]
  },
  {
   "cell_type": "code",
   "execution_count": 54,
   "metadata": {},
   "outputs": [
    {
     "data": {
      "text/plain": [
       "{'dave': '255 Main Street',\n",
       " 'sean': '522 1st Street',\n",
       " '0': 'This is a value for the key of 0',\n",
       " 'bob': 'From Ohio'}"
      ]
     },
     "execution_count": 54,
     "metadata": {},
     "output_type": "execute_result"
    }
   ],
   "source": [
    "# dict[key] = value\n",
    "dict_3['bob'] = 'From Ohio'\n",
    "\n",
    "dict_3"
   ]
  },
  {
   "cell_type": "markdown",
   "metadata": {},
   "source": [
    "##### Modifying Values"
   ]
  },
  {
   "cell_type": "code",
   "execution_count": 56,
   "metadata": {},
   "outputs": [
    {
     "data": {
      "text/plain": [
       "{'dave': '255 Main Street',\n",
       " 'sean': '522 1st Street',\n",
       " '0': 'This is a value for the key of 0',\n",
       " 'bob': 'Nashville'}"
      ]
     },
     "execution_count": 56,
     "metadata": {},
     "output_type": "execute_result"
    }
   ],
   "source": [
    "dict_3['bob'] = 'Nashville'\n",
    "\n",
    "dict_3"
   ]
  },
  {
   "cell_type": "markdown",
   "metadata": {},
   "source": [
    "##### Removing Key, Value Pairs"
   ]
  },
  {
   "cell_type": "code",
   "execution_count": 57,
   "metadata": {},
   "outputs": [
    {
     "data": {
      "text/plain": [
       "{'dave': '255 Main Street',\n",
       " 'sean': '522 1st Street',\n",
       " '0': 'This is a value for the key of 0'}"
      ]
     },
     "execution_count": 57,
     "metadata": {},
     "output_type": "execute_result"
    }
   ],
   "source": [
    "# del dict['key']\n",
    "\n",
    "del dict_3['bob'] \n",
    "\n",
    "dict_3"
   ]
  },
  {
   "cell_type": "markdown",
   "metadata": {},
   "source": [
    "##### Looping a Dictionary"
   ]
  },
  {
   "cell_type": "code",
   "execution_count": 59,
   "metadata": {},
   "outputs": [
    {
     "name": "stdout",
     "output_type": "stream",
     "text": [
      "dave 255 Main Street\n",
      "sean 522 1st Street\n",
      "0 This is a value for the key of 0\n"
     ]
    }
   ],
   "source": [
    "# .items()\n",
    "# a, b, c = 1, 2, 3\n",
    "# print(a)\n",
    "# print(b)\n",
    "# print(c)\n",
    "\n",
    "for key, value in dict_3.items():\n",
    "    print(key,value)\n"
   ]
  },
  {
   "cell_type": "markdown",
   "metadata": {},
   "source": [
    "##### Looping Only Keys"
   ]
  },
  {
   "cell_type": "code",
   "execution_count": 60,
   "metadata": {},
   "outputs": [
    {
     "name": "stdout",
     "output_type": "stream",
     "text": [
      "dave\n",
      "sean\n",
      "0\n"
     ]
    }
   ],
   "source": [
    "# .keys()\n",
    "for key in dict_3.keys():\n",
    "    print(key)\n",
    "\n"
   ]
  },
  {
   "cell_type": "markdown",
   "metadata": {},
   "source": [
    "##### Looping Only Values"
   ]
  },
  {
   "cell_type": "code",
   "execution_count": 62,
   "metadata": {},
   "outputs": [
    {
     "name": "stdout",
     "output_type": "stream",
     "text": [
      "0 255 Main Street\n",
      "0 522 1st Street\n",
      "0 This is a value for the key of 0\n"
     ]
    }
   ],
   "source": [
    "# .values()\n",
    "\n",
    "for value in dict_3.values():\n",
    "    print(value)"
   ]
  },
  {
   "cell_type": "markdown",
   "metadata": {},
   "source": [
    "## In-Class Exercise #2 - Create a Function that Prints All Key Value Pairs within a print .format() <br>\n",
    "<p><b>Output should be:</b><br>\n",
    "Max has blue eyes<br>\n",
    "Lilly has brown eyes<br>\n",
    "Barney has blue eyes<br>\n",
    "etc.\n",
    "</p>"
   ]
  },
  {
   "cell_type": "code",
   "execution_count": 104,
   "metadata": {},
   "outputs": [
    {
     "name": "stdout",
     "output_type": "stream",
     "text": [
      "Max has blue eyes\n",
      "Lilly has brown eyes\n",
      "Barney has blue eyes\n",
      "Larney has brown eyes\n",
      "Ted has purple eyes\n"
     ]
    }
   ],
   "source": [
    "# use the dict below\n",
    "\n",
    "people = {\n",
    "    'Max': 'blue',\n",
    "    'Lilly': 'brown',\n",
    "    'Barney': 'blue',\n",
    "    'Larney': 'brown',\n",
    "    'Ted': 'purple',\n",
    "}\n",
    "\n",
    "def eye_color():\n",
    "    for key, value in people.items():\n",
    "        print(key + ' has ' + value + ' eyes')\n",
    "\n",
    "eye_color()\n"
   ]
  },
  {
   "cell_type": "markdown",
   "metadata": {},
   "source": [
    "##### sorted()"
   ]
  },
  {
   "cell_type": "code",
   "execution_count": 108,
   "metadata": {},
   "outputs": [
    {
     "name": "stdout",
     "output_type": "stream",
     "text": [
      "[('Barney', 'blue'), ('Larney', 'brown'), ('Lilly', 'brown'), ('Max', 'blue'), ('Ted', 'purple')]\n",
      "['Barney', 'Larney', 'Lilly', 'Max', 'Ted']\n",
      "['blue', 'blue', 'brown', 'brown', 'purple']\n",
      "['blue', 'blue', 'brown', 'brown', 'purple']\n"
     ]
    }
   ],
   "source": [
    "# sorts variables in order\n",
    "# sorted(dict.values()) or dict.keys() or dict.items()\n",
    "\n",
    "print(sorted(people.items()))\n",
    "print(sorted(people.keys()))\n",
    "print(sorted(people.values()))\n",
    "\n",
    "new_variable = sorted(people.values())\n",
    "print(new_variable)"
   ]
  },
  {
   "cell_type": "markdown",
   "metadata": {},
   "source": [
    "##### List with Dictionaries"
   ]
  },
  {
   "cell_type": "code",
   "execution_count": 111,
   "metadata": {},
   "outputs": [
    {
     "name": "stdout",
     "output_type": "stream",
     "text": [
      "Barbara\n",
      "random_guy\n",
      "random_girl\n"
     ]
    }
   ],
   "source": [
    "names = [\"Dave\", \"randy\", \"Greg\", {\"random_guy\":\"Robert\", \"random_girl\":\"Barbara\"}]\n",
    "\n",
    "print(names[3]['random_girl'])\n",
    "\n",
    "#Get all the keys from a nested dictionary in a list\n",
    "for keys in names[3].keys():\n",
    "    print(keys)\n"
   ]
  },
  {
   "cell_type": "markdown",
   "metadata": {},
   "source": [
    "##### Dictionaries with Lists"
   ]
  },
  {
   "cell_type": "code",
   "execution_count": 119,
   "metadata": {},
   "outputs": [
    {
     "name": "stdout",
     "output_type": "stream",
     "text": [
      "54\n",
      "7\n",
      "11\n"
     ]
    }
   ],
   "source": [
    "# be careful when using numbers as keys in dictionaries, don't confuse them with indexes\n",
    "\n",
    "# random_dict = {\n",
    "#     0: 'Zero',\n",
    "#     3: 'One',\n",
    "#     17:'Two',\n",
    "#     2: 'Three',\n",
    "# }\n",
    "\n",
    "# random_dict[2]\n",
    "\n",
    "\n",
    "random_data = {\n",
    "    'list1': [54, 7, 11],\n",
    "    '2': ['smith', 'iPod', 'water bottle'],\n",
    "}\n",
    "\n",
    "for key in random_data['list1']:\n",
    "    print(key)"
   ]
  },
  {
   "cell_type": "markdown",
   "metadata": {},
   "source": [
    "##### Dictionaries with Dictionaries"
   ]
  },
  {
   "cell_type": "code",
   "execution_count": 127,
   "metadata": {},
   "outputs": [
    {
     "name": "stdout",
     "output_type": "stream",
     "text": [
      "3.99\n",
      "('CHO', 2.99)\n",
      "('VA', 3.99)\n",
      "('Oreo', 5.99)\n",
      "('PB', 6.99)\n"
     ]
    }
   ],
   "source": [
    "# to get values, must traverse through keys\n",
    "\n",
    "food_dict = {\n",
    "    'ice_cream': {\n",
    "        'CHO': 2.99,\n",
    "        'VA': 3.99,\n",
    "        'Oreo': 5.99,\n",
    "        'PB': 6.99,\n",
    "    }\n",
    "}\n",
    "\n",
    "print(food_dict['ice_cream']['VA'])\n",
    "\n",
    "for i in food_dict['ice_cream'].items():\n",
    "    print(i)"
   ]
  },
  {
   "cell_type": "markdown",
   "metadata": {},
   "source": [
    "## Dictionaries vs. Lists (over time) Example of RUNTIME\n",
    "### When inputting values in a Dictionary vs List"
   ]
  },
  {
   "cell_type": "code",
   "execution_count": 128,
   "metadata": {},
   "outputs": [],
   "source": [
    "import time\n",
    "\n",
    "\n",
    "# generate fake dictionary\n",
    "d = {}\n",
    "\n",
    "for i in range(10000000):\n",
    "    d[i] = 'value'\n",
    "    \n",
    "\n",
    "# generate fake list\n",
    "big_list = [x for x in range(10000000)]"
   ]
  },
  {
   "cell_type": "code",
   "execution_count": 149,
   "metadata": {},
   "outputs": [
    {
     "name": "stdout",
     "output_type": "stream",
     "text": [
      "value\n",
      "Elapsed time for dictionary: 0.00019311904907226562\n",
      "9999999\n",
      "Elapsed time for list: 0.3686859607696533\n"
     ]
    }
   ],
   "source": [
    "# tracking time for dictionary\n",
    "start_time = time.time()\n",
    "\n",
    "print(d[9999999])\n",
    "\n",
    "end_time = time.time() - start_time\n",
    "\n",
    "print('Elapsed time for dictionary: {}'.format(end_time))\n",
    "\n",
    "\n",
    "# tracking time for list\n",
    "start_time = time.time()\n",
    "\n",
    "for i in range(len(big_list)):\n",
    "    if i == 9999999:\n",
    "        print(i)\n",
    "\n",
    "end_time = time.time() - start_time\n",
    "\n",
    "print('Elapsed time for list: {}'.format(end_time))"
   ]
  },
  {
   "cell_type": "markdown",
   "metadata": {},
   "source": [
    "## Exercise #3 - Write a Function that asks someone's name and address, and then stores that into a dictionary, and continues to do so until they choose to 'quit'. Once they quit, the program should print all names and addresses. <br>\n",
    "<p>\n",
    "<b>Proper steps:</b><br>\n",
    "step 1: write a function that takes in information and stores it in a dictionary<br>\n",
    "step 2: define an empty dictionary to work with<br>\n",
    "step 3: create our loop, which asks the user for information until they quit<br>\n",
    "step 4: ask for the information, and store it into variables<br>\n",
    "step 5: check if the user types quit<br>\n",
    "step 5a: print out all information<br>\n",
    "step 5b: break out of the loop<br>\n",
    "step 6: if they didn't quit, add the information to the dictionary<br>\n",
    "step 7: invoke the function by calling it\n",
    "</p>"
   ]
  },
  {
   "cell_type": "code",
   "execution_count": 188,
   "metadata": {},
   "outputs": [
    {
     "name": "stdout",
     "output_type": "stream",
     "text": [
      "What is your breed of pet? To exit, enter 'quit'.labrador\n",
      "What is the color of your labrador?chocolate\n",
      "What is your breed of pet? To exit, enter 'quit'.husky\n",
      "What is the color of your husky?tan\n",
      "What is your breed of pet? To exit, enter 'quit'.labradoodle\n",
      "What is the color of your labradoodle?yellow\n",
      "What is your breed of pet? To exit, enter 'quit'.quit\n",
      "\n",
      "The animals you have are: \n",
      "A Chocolate Labrador\n",
      "A Tan Husky\n",
      "A Yellow Labradoodle\n"
     ]
    }
   ],
   "source": [
    "from IPython.display import clear_output\n",
    "\n",
    "def user_contacts():\n",
    "    contacts = {} # Create an empty dictionary to store contacts\n",
    "    while True:\n",
    "        name = input(\"What is your name? Enter 'quit' to exit. \")\n",
    "        if name.lower() == \"quit\":\n",
    "            break # Exit the loop if the user enters 'quit'\n",
    "            \n",
    "        address = input(\"What is your address? \")\n",
    "        contacts[name] = address # Add the name and address to the dictionary\n",
    "     \n",
    "    # Print all names and addresses\n",
    "    print(\"\\nContacts: \")\n",
    "    \n",
    "    for name, address in contacts.items():\n",
    "        print(f'Name: {name.title()}, Address: {address}')\n",
    "\n",
    "user_contacts()\n",
    "\n",
    "\n",
    "def make_model():\n",
    "    vehicle = {} # Empty dictionary to store vehicles\n",
    "    while True:\n",
    "        make = input(\"What is your vehicle make? Enter 'quit' to exit.\")\n",
    "        if make.lower() == 'quit':\n",
    "            break # Exit the loop when user enters quit\n",
    "        \n",
    "        model = input(\"What is the model?\")\n",
    "        vehicle[make] = model\n",
    "    \n",
    "    #print all vehicle makes and models\n",
    "    print(\"\\nVehicle makes and models: \")\n",
    "    \n",
    "    for make, model in vehicle.items():\n",
    "        print(f'Your car is a {make.title()} {model.title()}')\n",
    "        \n",
    "make_model()\n",
    "    \n",
    "    \n",
    "def login_info():\n",
    "    info = {} # Empty dictionary to store user information\n",
    "    while True:\n",
    "        email = input(\"What is your email? Enter 'quit' to exit.\")\n",
    "        if email.lower() == 'quit':\n",
    "            break # exit the loop when user enters quit\n",
    "            \n",
    "        password = input(\"Choose a password: \")\n",
    "        info[email] = password\n",
    "        \n",
    "    # print all user information\n",
    "    print(\"\\n Your login info is: \")\n",
    "    \n",
    "    for email, password in info.items():\n",
    "        print(f'Email: {email}, Password: {password}.')\n",
    "        \n",
    "login_info()\n",
    "\n",
    "\n",
    "def pets():\n",
    "    animal = {} # Empty dictionary to store animal types\n",
    "    while True:\n",
    "        breed = input(\"What is your breed of pet? To exit, enter 'quit'.\")\n",
    "        if breed == 'quit':\n",
    "            break # Exit the loop when user enters quit\n",
    "            \n",
    "        color = input(\"What is the color of your \" + breed + \"?\")\n",
    "        animal[breed] = color\n",
    "      \n",
    "    # Print all animal types\n",
    "    print(\"\\nThe animals you have are: \")\n",
    "        \n",
    "    for breed, color in animal.items():\n",
    "        print(f'A {color.title()} {breed.title()}')\n",
    "        \n",
    "pets()"
   ]
  },
  {
   "cell_type": "markdown",
   "metadata": {},
   "source": [
    "## Set <br>\n",
    "<p>A Set is an unordered collection data type that is iterable (loop), mutable, and has no duplicate elements.<br>Major advantage is that it is highly optimized in checking if something is in the set, as opposed to checking if something is in a list.</p>"
   ]
  },
  {
   "cell_type": "markdown",
   "metadata": {},
   "source": [
    "##### Declaring"
   ]
  },
  {
   "cell_type": "code",
   "execution_count": 189,
   "metadata": {},
   "outputs": [
    {
     "name": "stdout",
     "output_type": "stream",
     "text": [
      "{1, 4, 6}\n"
     ]
    }
   ],
   "source": [
    "# set() or {}\n",
    "# no order {3, 2, 1} outputs as {1, 2, 3}\n",
    "nums = {4, 1 ,6 ,4}\n",
    "print(nums)"
   ]
  },
  {
   "cell_type": "markdown",
   "metadata": {},
   "source": [
    "##### .add()"
   ]
  },
  {
   "cell_type": "code",
   "execution_count": 193,
   "metadata": {},
   "outputs": [
    {
     "name": "stdout",
     "output_type": "stream",
     "text": [
      "{56, 1, 4, 6}\n"
     ]
    }
   ],
   "source": [
    "# set.add()\n",
    "nums. add(56)\n",
    "print(nums)"
   ]
  },
  {
   "cell_type": "markdown",
   "metadata": {},
   "source": [
    "##### .remove()"
   ]
  },
  {
   "cell_type": "code",
   "execution_count": 194,
   "metadata": {},
   "outputs": [
    {
     "name": "stdout",
     "output_type": "stream",
     "text": [
      "{1, 4, 6}\n"
     ]
    }
   ],
   "source": [
    "# removes by value\n",
    "# set.remove()\n",
    "# nums.remove(56)\n",
    "\n",
    "nums.remove(56)\n",
    "print(nums)"
   ]
  },
  {
   "cell_type": "markdown",
   "metadata": {},
   "source": [
    "##### .union() "
   ]
  },
  {
   "cell_type": "code",
   "execution_count": 196,
   "metadata": {},
   "outputs": [
    {
     "name": "stdout",
     "output_type": "stream",
     "text": [
      "{1, 2, 3, 4, 5, 6}\n",
      "{1, 2, 3, 4, 5, 6}\n"
     ]
    }
   ],
   "source": [
    "# Returns a union of two sets, can also use '|' or set.union(set)\n",
    "# joins all numbers, gets rid of duplicates\n",
    "s1 = {1,2,3,4}\n",
    "s2 = {3,4,5,6}\n",
    "\n",
    "s3 = s1.union(s2)\n",
    "\n",
    "print(s3)\n",
    "\n",
    "# OR \n",
    "\n",
    "s4 = s1 | s2\n",
    "print(s4)"
   ]
  },
  {
   "cell_type": "markdown",
   "metadata": {},
   "source": [
    "##### .intersection()"
   ]
  },
  {
   "cell_type": "code",
   "execution_count": 199,
   "metadata": {},
   "outputs": [
    {
     "name": "stdout",
     "output_type": "stream",
     "text": [
      "{3, 4}\n",
      "{3, 4}\n"
     ]
    }
   ],
   "source": [
    "# Returns an intersection of two sets, can also use '&'\n",
    "# only takes similar elements from both sets\n",
    "\n",
    "s5 = s2 & s1\n",
    "print(s5)\n",
    "\n",
    "s6 = s1.intersection(s2)\n",
    "print(s6)\n",
    "\n"
   ]
  },
  {
   "cell_type": "markdown",
   "metadata": {},
   "source": [
    "##### .difference()"
   ]
  },
  {
   "cell_type": "code",
   "execution_count": 201,
   "metadata": {},
   "outputs": [
    {
     "name": "stdout",
     "output_type": "stream",
     "text": [
      "{1, 2, 3, 4}\n",
      "{3, 4, 5, 6}\n",
      "{5, 6}\n",
      "{1, 2}\n"
     ]
    }
   ],
   "source": [
    "# Returns a set containing all the elements of invoking set that are not in the second set, can also use '-'\n",
    "# only takes values from the first set that are not in the second set\n",
    "# order matters\n",
    "\n",
    "s7 = s2 - s1\n",
    "\n",
    "# or\n",
    "\n",
    "s8 = s1.difference(s2)\n",
    "\n",
    "print(s1)\n",
    "print(s2)\n",
    "print(s7)\n",
    "print(s8)\n"
   ]
  },
  {
   "cell_type": "markdown",
   "metadata": {},
   "source": [
    "##### .clear()"
   ]
  },
  {
   "cell_type": "code",
   "execution_count": 202,
   "metadata": {},
   "outputs": [
    {
     "name": "stdout",
     "output_type": "stream",
     "text": [
      "set()\n"
     ]
    }
   ],
   "source": [
    "# Empties the whole set\n",
    "# set.clear()\n",
    "\n",
    "s8.clear()\n",
    "print(s8)"
   ]
  },
  {
   "cell_type": "markdown",
   "metadata": {},
   "source": [
    "##### Frozenset <br>\n",
    "<p>Frozen sets are immutable objects that only support methods and operators that produce a result without affecting the frozen set or sets to which they are applied.</p><br><b>Unique & Immutable</b>"
   ]
  },
  {
   "cell_type": "code",
   "execution_count": 205,
   "metadata": {},
   "outputs": [
    {
     "name": "stdout",
     "output_type": "stream",
     "text": [
      "frozenset({1, 2, 3, 4, 5, 6, 56})\n"
     ]
    },
    {
     "ename": "AttributeError",
     "evalue": "'frozenset' object has no attribute 'add'",
     "output_type": "error",
     "traceback": [
      "\u001b[0;31m---------------------------------------------------------------------------\u001b[0m",
      "\u001b[0;31mAttributeError\u001b[0m                            Traceback (most recent call last)",
      "Cell \u001b[0;32mIn[205], line 6\u001b[0m\n\u001b[1;32m      3\u001b[0m my_frozen_set \u001b[38;5;241m=\u001b[39m \u001b[38;5;28mfrozenset\u001b[39m(s3)\n\u001b[1;32m      4\u001b[0m \u001b[38;5;28mprint\u001b[39m(my_frozen_set)\n\u001b[0;32m----> 6\u001b[0m my_frozen_set\u001b[38;5;241m.\u001b[39madd(\u001b[38;5;241m56\u001b[39m)\n",
      "\u001b[0;31mAttributeError\u001b[0m: 'frozenset' object has no attribute 'add'"
     ]
    }
   ],
   "source": [
    "# frozenset([])\n",
    "s3.add(56)\n",
    "my_frozen_set = frozenset(s3)\n",
    "print(my_frozen_set)\n",
    "\n",
    "my_frozen_set.add(56)"
   ]
  },
  {
   "cell_type": "markdown",
   "metadata": {},
   "source": [
    "## Modules"
   ]
  },
  {
   "cell_type": "markdown",
   "metadata": {},
   "source": [
    "##### Importing Entire Modules"
   ]
  },
  {
   "cell_type": "code",
   "execution_count": 219,
   "metadata": {},
   "outputs": [
    {
     "name": "stdout",
     "output_type": "stream",
     "text": [
      "Help on built-in function floor in module math:\n",
      "\n",
      "floor(x, /)\n",
      "    Return the floor of x as an Integral.\n",
      "    \n",
      "    This is the largest integer <= x.\n",
      "\n"
     ]
    }
   ],
   "source": [
    "# import or from 'xxx' import *\n",
    "# import math\n",
    "\n",
    "import math\n",
    "\n",
    "print(pi)\n",
    "print(floor(pi)) \n"
   ]
  },
  {
   "cell_type": "markdown",
   "metadata": {},
   "source": [
    "##### Importing Methods Only"
   ]
  },
  {
   "cell_type": "code",
   "execution_count": 221,
   "metadata": {},
   "outputs": [
    {
     "name": "stdout",
     "output_type": "stream",
     "text": [
      "3.141592653589793\n",
      "<built-in function floor>\n"
     ]
    }
   ],
   "source": [
    "# from 'xxx' import 'xxx'\n",
    "# from math import floor\n",
    "\n",
    "from math import floor, pi\n",
    "\n",
    "print(pi)"
   ]
  },
  {
   "cell_type": "markdown",
   "metadata": {},
   "source": [
    "##### Using the 'as' Keyword"
   ]
  },
  {
   "cell_type": "code",
   "execution_count": 223,
   "metadata": {},
   "outputs": [
    {
     "ename": "TypeError",
     "evalue": "'float' object is not callable",
     "output_type": "error",
     "traceback": [
      "\u001b[0;31m---------------------------------------------------------------------------\u001b[0m",
      "\u001b[0;31mTypeError\u001b[0m                                 Traceback (most recent call last)",
      "Cell \u001b[0;32mIn[223], line 4\u001b[0m\n\u001b[1;32m      1\u001b[0m \u001b[38;5;66;03m# from 'xxx' import 'xxx' as 'xxx' or import 'xxx' as 'xxx'\u001b[39;00m\n\u001b[1;32m      2\u001b[0m \u001b[38;5;66;03m# from math import floor as f\u001b[39;00m\n\u001b[1;32m      3\u001b[0m \u001b[38;5;28;01mfrom\u001b[39;00m \u001b[38;5;21;01mmath\u001b[39;00m \u001b[38;5;28;01mimport\u001b[39;00m floor \u001b[38;5;28;01mas\u001b[39;00m f, pi \u001b[38;5;28;01mas\u001b[39;00m p\n\u001b[0;32m----> 4\u001b[0m \u001b[38;5;28mprint\u001b[39m(p(f))\n",
      "\u001b[0;31mTypeError\u001b[0m: 'float' object is not callable"
     ]
    }
   ],
   "source": [
    "# from 'xxx' import 'xxx' as 'xxx' or import 'xxx' as 'xxx'\n",
    "# from math import floor as f\n",
    "from math import floor as f, pi as p\n",
    "print(f(p))"
   ]
  },
  {
   "cell_type": "markdown",
   "metadata": {},
   "source": [
    "##### Creating a Module"
   ]
  },
  {
   "cell_type": "code",
   "execution_count": 237,
   "metadata": {},
   "outputs": [
    {
     "name": "stdout",
     "output_type": "stream",
     "text": [
      "Hello Mr/Ms {name}...we've been waiting for you!\n"
     ]
    }
   ],
   "source": [
    "import module\n",
    "\n",
    "print(module.printName('Tommy'))"
   ]
  },
  {
   "cell_type": "markdown",
   "metadata": {},
   "source": [
    "# Exercises"
   ]
  },
  {
   "cell_type": "markdown",
   "metadata": {},
   "source": [
    "### 1) Build a Shopping Cart <br>\n",
    "<p><b>You can use either lists or dictionaries. The program should have the following capabilities:</b><br><br>\n",
    "1) Takes in input <br>\n",
    "2) Stores user input into a dictionary or list <br>\n",
    "3) The User can add or delete items <br>\n",
    "4) The User can see current shopping list <br>\n",
    "5) The program Loops until user 'quits' <br>\n",
    "6) Upon quiting the program, print out all items in the user's list <br>\n",
    "</p>"
   ]
  },
  {
   "cell_type": "code",
   "execution_count": 8,
   "metadata": {},
   "outputs": [
    {
     "name": "stdout",
     "output_type": "stream",
     "text": [
      "-----OPTIONS----- \n",
      " 1. ADD ITEM \n",
      " 2. REMOVE ITEM \n",
      " 3. VIEW CART \n",
      " 4. EXIT\n",
      "Enter an option: 1\n",
      "Enter an item: banana\n",
      "Enter the quantity: 23\n",
      "\n",
      "Enter an option: 1\n",
      "Enter an item: apple\n",
      "Enter the quantity: 34\n",
      "\n",
      "Enter an option: 4\n",
      "Thank you, our time here is done. \n",
      " \n",
      "Thank you for buying {'banana': 23, 'apple': 34}\n"
     ]
    }
   ],
   "source": [
    "from IPython.display import clear_output\n",
    "\n",
    "# Ask the user four bits of input: Do you want to : Show/Add/Delete or Quit?\n",
    "\n",
    "shopping_cart = {}\n",
    "\n",
    "print(\"-----OPTIONS----- \\n 1. ADD ITEM \\n 2. REMOVE ITEM \\n 3. VIEW CART \\n 4. EXIT\")\n",
    "\n",
    "option = int(input(\"Enter an option: \"))\n",
    "\n",
    "while option != 4:\n",
    "    if option == 1:\n",
    "        item = input(\"Enter an item: \")\n",
    "        \n",
    "        if item in shopping_cart:\n",
    "            print(\"That is already in your cart. \")\n",
    "            quantity = int(input(\"How many would you like to add? \"))\n",
    "            shopping_cart[item] += shopping_cart[item] + int(quantity)\n",
    "        else:\n",
    "            quantity = int(input(\"Enter the quantity: \"))\n",
    "            shopping_cart[item] = quantity\n",
    "        \n",
    "    elif option == 2:\n",
    "        item = input(\"What do you want to remove? \")\n",
    "        del(shopping_cart[item])\n",
    "        print(\"You have removed your\" + item)\n",
    "        \n",
    "    elif option == 3:\n",
    "        for item in shopping_cart:\n",
    "            print(item, \":\", shopping_cart[item])\n",
    "            \n",
    "    elif option !=4:\n",
    "        print(\"Please enter a valid option.\")\n",
    "        \n",
    "    option = int(input(\"\\nEnter an option: \"))\n",
    "\n",
    "else:\n",
    "    print(\"Thank you, our time here is done. \\n \")\n",
    "\n",
    "print(f\"Thank you for buying {shopping_cart}\")"
   ]
  },
  {
   "cell_type": "markdown",
   "metadata": {},
   "source": [
    "## "
   ]
  },
  {
   "cell_type": "markdown",
   "metadata": {},
   "source": [
    "### 2) Create a Module in VS Code and Import It into jupyter notebook <br>\n",
    "<p><b>Module should have the following capabilities:</b><br><br>\n",
    "1) Has a function to calculate the square footage of a house <br>\n",
    "    <b>Reminder of Formula: Length X Width == Area<br>\n",
    "        <hr>\n",
    "2) Has a function to calculate the circumference of a circle <br><br>\n",
    "<b>Program in Jupyter Notebook should take in user input and use imported functions to calculate a circle's circumference or a houses square footage</b>\n",
    "</p>"
   ]
  },
  {
   "cell_type": "code",
   "execution_count": 11,
   "metadata": {},
   "outputs": [
    {
     "name": "stdout",
     "output_type": "stream",
     "text": [
      "-_-_-_-_-_-_OPTIONS_-_-_-_-_-_- \n",
      " \n",
      " 1. Calculate square footage \n",
      " 2. Calculate circumference \n",
      " 3. Quit\n",
      "Enter an option: 1\n",
      "Enter a length in feet: 23\n",
      "Enterh a width in feet: 25\n",
      "The square footage is 575\n"
     ]
    }
   ],
   "source": [
    "import __module__"
   ]
  },
  {
   "cell_type": "code",
   "execution_count": null,
   "metadata": {},
   "outputs": [],
   "source": []
  }
 ],
 "metadata": {
  "kernelspec": {
   "display_name": "Python 3 (ipykernel)",
   "language": "python",
   "name": "python3"
  },
  "language_info": {
   "codemirror_mode": {
    "name": "ipython",
    "version": 3
   },
   "file_extension": ".py",
   "mimetype": "text/x-python",
   "name": "python",
   "nbconvert_exporter": "python",
   "pygments_lexer": "ipython3",
   "version": "3.11.3"
  }
 },
 "nbformat": 4,
 "nbformat_minor": 2
}
